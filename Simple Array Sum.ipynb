import os
import sys

#
# Complete the simpleArraySum function below.
#
def simpleArraySum(ar):
   sum =0 
   for i in  ar :
    sum = sum + i
    
   return (sum)

if __name__ == '__main__':
    fptr = open(os.environ['OUTPUT_PATH'], 'w')

    ar_count = int(input())

    ar = list(map(int, input().rstrip().split()))

    result = simpleArraySum(ar)

    fptr.write(str(result) + '\n')

    fptr.close()